{
 "cells": [
  {
   "cell_type": "code",
   "execution_count": 1,
   "id": "7683eb95-d2ab-432b-aef6-89c020839941",
   "metadata": {},
   "outputs": [],
   "source": [
    "import pandas as pd"
   ]
  },
  {
   "cell_type": "code",
   "execution_count": 3,
   "id": "5bf2265e-cec7-4ddd-b7bb-86570742402a",
   "metadata": {},
   "outputs": [],
   "source": [
    "import numpy as np"
   ]
  },
  {
   "cell_type": "code",
   "execution_count": 5,
   "id": "8b3589e0-c9b6-4df0-a33d-dec47a4fbfd6",
   "metadata": {},
   "outputs": [],
   "source": [
    "import matplotlib.pyplot as plt\n"
   ]
  },
  {
   "cell_type": "code",
   "execution_count": 7,
   "id": "2ab6f51c-c1bf-4bf5-b28c-7cacf24959ad",
   "metadata": {},
   "outputs": [],
   "source": [
    "import seaborn as sns"
   ]
  },
  {
   "cell_type": "code",
   "execution_count": 9,
   "id": "25b57a27-0da8-40c0-b98d-a555a4c55f49",
   "metadata": {},
   "outputs": [],
   "source": [
    "val=[\n",
    "('2024-01-01', 'Pepperoni', 'Small', 5, 8.99, 'New York'),\n",
    "('2024-01-01', 'Pepperoni', 'Medium', 3, 12.99, 'New York'),\n",
    "('2024-01-02', 'Margherita', 'Large', 2, 15.99, 'New York'),\n",
    "('2024-01-02', 'BBQ Chicken', 'Small', 4, 9.99, 'Chicago'),\n",
    "('2024-01-03', 'Vegetarian', 'Large', 6, 14.99, 'Los Angeles'),\n",
    "('2024-01-04', 'Pepperoni', 'Small', 7, 8.99, 'Chicago'),\n",
    "('2024-01-05', 'BBQ Chicken', 'Medium', 2, 13.99, 'Los Angeles'),\n",
    "('2024-01-06', 'Margherita', 'Small', 8, 7.99, 'New York'),\n",
    "('2024-01-07', 'Vegetarian', 'Medium', 3, 12.99, 'Chicago'),\n",
    "('2024-01-08', 'Pepperoni', 'Large', 1, 15.99, 'Los Angeles'),\n",
    "('2024-01-09', 'BBQ Chicken', 'Large', 2, 17.99, 'New York'),\n",
    "('2024-01-10', 'Vegetarian', 'Small', 5, 9.99, 'Chicago')]"
   ]
  },
  {
   "cell_type": "code",
   "execution_count": 173,
   "id": "8cbfc058-2513-49d5-9157-90b0e9a30f6d",
   "metadata": {},
   "outputs": [],
   "source": [
    "df=pd.DataFrame(val,columns=[\"sale_date\", \"pizza_type\", \"size_pizza\", \"quantity\", \"price\", \"location\"\n",
    "])"
   ]
  },
  {
   "cell_type": "code",
   "execution_count": 175,
   "id": "7635f816-57da-4604-8f1c-33fe4253f0f5",
   "metadata": {},
   "outputs": [
    {
     "data": {
      "text/html": [
       "<div>\n",
       "<style scoped>\n",
       "    .dataframe tbody tr th:only-of-type {\n",
       "        vertical-align: middle;\n",
       "    }\n",
       "\n",
       "    .dataframe tbody tr th {\n",
       "        vertical-align: top;\n",
       "    }\n",
       "\n",
       "    .dataframe thead th {\n",
       "        text-align: right;\n",
       "    }\n",
       "</style>\n",
       "<table border=\"1\" class=\"dataframe\">\n",
       "  <thead>\n",
       "    <tr style=\"text-align: right;\">\n",
       "      <th></th>\n",
       "      <th>sale_date</th>\n",
       "      <th>pizza_type</th>\n",
       "      <th>size_pizza</th>\n",
       "      <th>quantity</th>\n",
       "      <th>price</th>\n",
       "      <th>location</th>\n",
       "    </tr>\n",
       "  </thead>\n",
       "  <tbody>\n",
       "    <tr>\n",
       "      <th>0</th>\n",
       "      <td>2024-01-01</td>\n",
       "      <td>Pepperoni</td>\n",
       "      <td>Small</td>\n",
       "      <td>5</td>\n",
       "      <td>8.99</td>\n",
       "      <td>New York</td>\n",
       "    </tr>\n",
       "    <tr>\n",
       "      <th>1</th>\n",
       "      <td>2024-01-01</td>\n",
       "      <td>Pepperoni</td>\n",
       "      <td>Medium</td>\n",
       "      <td>3</td>\n",
       "      <td>12.99</td>\n",
       "      <td>New York</td>\n",
       "    </tr>\n",
       "    <tr>\n",
       "      <th>2</th>\n",
       "      <td>2024-01-02</td>\n",
       "      <td>Margherita</td>\n",
       "      <td>Large</td>\n",
       "      <td>2</td>\n",
       "      <td>15.99</td>\n",
       "      <td>New York</td>\n",
       "    </tr>\n",
       "    <tr>\n",
       "      <th>3</th>\n",
       "      <td>2024-01-02</td>\n",
       "      <td>BBQ Chicken</td>\n",
       "      <td>Small</td>\n",
       "      <td>4</td>\n",
       "      <td>9.99</td>\n",
       "      <td>Chicago</td>\n",
       "    </tr>\n",
       "    <tr>\n",
       "      <th>4</th>\n",
       "      <td>2024-01-03</td>\n",
       "      <td>Vegetarian</td>\n",
       "      <td>Large</td>\n",
       "      <td>6</td>\n",
       "      <td>14.99</td>\n",
       "      <td>Los Angeles</td>\n",
       "    </tr>\n",
       "    <tr>\n",
       "      <th>5</th>\n",
       "      <td>2024-01-04</td>\n",
       "      <td>Pepperoni</td>\n",
       "      <td>Small</td>\n",
       "      <td>7</td>\n",
       "      <td>8.99</td>\n",
       "      <td>Chicago</td>\n",
       "    </tr>\n",
       "    <tr>\n",
       "      <th>6</th>\n",
       "      <td>2024-01-05</td>\n",
       "      <td>BBQ Chicken</td>\n",
       "      <td>Medium</td>\n",
       "      <td>2</td>\n",
       "      <td>13.99</td>\n",
       "      <td>Los Angeles</td>\n",
       "    </tr>\n",
       "    <tr>\n",
       "      <th>7</th>\n",
       "      <td>2024-01-06</td>\n",
       "      <td>Margherita</td>\n",
       "      <td>Small</td>\n",
       "      <td>8</td>\n",
       "      <td>7.99</td>\n",
       "      <td>New York</td>\n",
       "    </tr>\n",
       "    <tr>\n",
       "      <th>8</th>\n",
       "      <td>2024-01-07</td>\n",
       "      <td>Vegetarian</td>\n",
       "      <td>Medium</td>\n",
       "      <td>3</td>\n",
       "      <td>12.99</td>\n",
       "      <td>Chicago</td>\n",
       "    </tr>\n",
       "    <tr>\n",
       "      <th>9</th>\n",
       "      <td>2024-01-08</td>\n",
       "      <td>Pepperoni</td>\n",
       "      <td>Large</td>\n",
       "      <td>1</td>\n",
       "      <td>15.99</td>\n",
       "      <td>Los Angeles</td>\n",
       "    </tr>\n",
       "    <tr>\n",
       "      <th>10</th>\n",
       "      <td>2024-01-09</td>\n",
       "      <td>BBQ Chicken</td>\n",
       "      <td>Large</td>\n",
       "      <td>2</td>\n",
       "      <td>17.99</td>\n",
       "      <td>New York</td>\n",
       "    </tr>\n",
       "    <tr>\n",
       "      <th>11</th>\n",
       "      <td>2024-01-10</td>\n",
       "      <td>Vegetarian</td>\n",
       "      <td>Small</td>\n",
       "      <td>5</td>\n",
       "      <td>9.99</td>\n",
       "      <td>Chicago</td>\n",
       "    </tr>\n",
       "  </tbody>\n",
       "</table>\n",
       "</div>"
      ],
      "text/plain": [
       "     sale_date   pizza_type size_pizza  quantity  price     location\n",
       "0   2024-01-01    Pepperoni      Small         5   8.99     New York\n",
       "1   2024-01-01    Pepperoni     Medium         3  12.99     New York\n",
       "2   2024-01-02   Margherita      Large         2  15.99     New York\n",
       "3   2024-01-02  BBQ Chicken      Small         4   9.99      Chicago\n",
       "4   2024-01-03   Vegetarian      Large         6  14.99  Los Angeles\n",
       "5   2024-01-04    Pepperoni      Small         7   8.99      Chicago\n",
       "6   2024-01-05  BBQ Chicken     Medium         2  13.99  Los Angeles\n",
       "7   2024-01-06   Margherita      Small         8   7.99     New York\n",
       "8   2024-01-07   Vegetarian     Medium         3  12.99      Chicago\n",
       "9   2024-01-08    Pepperoni      Large         1  15.99  Los Angeles\n",
       "10  2024-01-09  BBQ Chicken      Large         2  17.99     New York\n",
       "11  2024-01-10   Vegetarian      Small         5   9.99      Chicago"
      ]
     },
     "execution_count": 175,
     "metadata": {},
     "output_type": "execute_result"
    }
   ],
   "source": [
    "df"
   ]
  },
  {
   "cell_type": "code",
   "execution_count": 15,
   "id": "ff59b5bc-2541-43de-9777-e7c9c5bbdec8",
   "metadata": {},
   "outputs": [],
   "source": [
    "#1"
   ]
  },
  {
   "cell_type": "code",
   "execution_count": 17,
   "id": "de951bfb-3443-4ac7-a78c-fa3c57735a03",
   "metadata": {},
   "outputs": [],
   "source": [
    "grouped=df.groupby(df.pizza_type)"
   ]
  },
  {
   "cell_type": "code",
   "execution_count": 49,
   "id": "ad239680-c564-4679-869b-2e8aeecda900",
   "metadata": {},
   "outputs": [],
   "source": [
    "pep=grouped.get_group(\"Pepperoni\")\n",
    "mar=grouped.get_group(\"Margherita\")\n",
    "bbq=grouped.get_group(\"BBQ Chicken\")\n",
    "veg=grouped.get_group(\"Vegetarian\")"
   ]
  },
  {
   "cell_type": "code",
   "execution_count": 51,
   "id": "200d65b2-403a-4246-8915-ef598067b1a5",
   "metadata": {},
   "outputs": [
    {
     "data": {
      "text/html": [
       "<div>\n",
       "<style scoped>\n",
       "    .dataframe tbody tr th:only-of-type {\n",
       "        vertical-align: middle;\n",
       "    }\n",
       "\n",
       "    .dataframe tbody tr th {\n",
       "        vertical-align: top;\n",
       "    }\n",
       "\n",
       "    .dataframe thead th {\n",
       "        text-align: right;\n",
       "    }\n",
       "</style>\n",
       "<table border=\"1\" class=\"dataframe\">\n",
       "  <thead>\n",
       "    <tr style=\"text-align: right;\">\n",
       "      <th></th>\n",
       "      <th>sale_date</th>\n",
       "      <th>pizza_type</th>\n",
       "      <th>size</th>\n",
       "      <th>quantity</th>\n",
       "      <th>price</th>\n",
       "      <th>location</th>\n",
       "    </tr>\n",
       "  </thead>\n",
       "  <tbody>\n",
       "    <tr>\n",
       "      <th>0</th>\n",
       "      <td>2024-01-01</td>\n",
       "      <td>Pepperoni</td>\n",
       "      <td>Small</td>\n",
       "      <td>5</td>\n",
       "      <td>8.99</td>\n",
       "      <td>New York</td>\n",
       "    </tr>\n",
       "    <tr>\n",
       "      <th>1</th>\n",
       "      <td>2024-01-01</td>\n",
       "      <td>Pepperoni</td>\n",
       "      <td>Medium</td>\n",
       "      <td>3</td>\n",
       "      <td>12.99</td>\n",
       "      <td>New York</td>\n",
       "    </tr>\n",
       "    <tr>\n",
       "      <th>5</th>\n",
       "      <td>2024-01-04</td>\n",
       "      <td>Pepperoni</td>\n",
       "      <td>Small</td>\n",
       "      <td>7</td>\n",
       "      <td>8.99</td>\n",
       "      <td>Chicago</td>\n",
       "    </tr>\n",
       "    <tr>\n",
       "      <th>9</th>\n",
       "      <td>2024-01-08</td>\n",
       "      <td>Pepperoni</td>\n",
       "      <td>Large</td>\n",
       "      <td>1</td>\n",
       "      <td>15.99</td>\n",
       "      <td>Los Angeles</td>\n",
       "    </tr>\n",
       "  </tbody>\n",
       "</table>\n",
       "</div>"
      ],
      "text/plain": [
       "    sale_date pizza_type    size  quantity  price     location\n",
       "0  2024-01-01  Pepperoni   Small         5   8.99     New York\n",
       "1  2024-01-01  Pepperoni  Medium         3  12.99     New York\n",
       "5  2024-01-04  Pepperoni   Small         7   8.99      Chicago\n",
       "9  2024-01-08  Pepperoni   Large         1  15.99  Los Angeles"
      ]
     },
     "execution_count": 51,
     "metadata": {},
     "output_type": "execute_result"
    }
   ],
   "source": [
    "pep"
   ]
  },
  {
   "cell_type": "code",
   "execution_count": 57,
   "id": "a41b5f00-ec41-428e-bd59-ce2211ed170c",
   "metadata": {},
   "outputs": [
    {
     "data": {
      "text/html": [
       "<div>\n",
       "<style scoped>\n",
       "    .dataframe tbody tr th:only-of-type {\n",
       "        vertical-align: middle;\n",
       "    }\n",
       "\n",
       "    .dataframe tbody tr th {\n",
       "        vertical-align: top;\n",
       "    }\n",
       "\n",
       "    .dataframe thead th {\n",
       "        text-align: right;\n",
       "    }\n",
       "</style>\n",
       "<table border=\"1\" class=\"dataframe\">\n",
       "  <thead>\n",
       "    <tr style=\"text-align: right;\">\n",
       "      <th></th>\n",
       "      <th>sale_date</th>\n",
       "      <th>pizza_type</th>\n",
       "      <th>size</th>\n",
       "      <th>quantity</th>\n",
       "      <th>price</th>\n",
       "      <th>location</th>\n",
       "    </tr>\n",
       "  </thead>\n",
       "  <tbody>\n",
       "    <tr>\n",
       "      <th>2</th>\n",
       "      <td>2024-01-02</td>\n",
       "      <td>Margherita</td>\n",
       "      <td>Large</td>\n",
       "      <td>2</td>\n",
       "      <td>15.99</td>\n",
       "      <td>New York</td>\n",
       "    </tr>\n",
       "    <tr>\n",
       "      <th>7</th>\n",
       "      <td>2024-01-06</td>\n",
       "      <td>Margherita</td>\n",
       "      <td>Small</td>\n",
       "      <td>8</td>\n",
       "      <td>7.99</td>\n",
       "      <td>New York</td>\n",
       "    </tr>\n",
       "  </tbody>\n",
       "</table>\n",
       "</div>"
      ],
      "text/plain": [
       "    sale_date  pizza_type   size  quantity  price  location\n",
       "2  2024-01-02  Margherita  Large         2  15.99  New York\n",
       "7  2024-01-06  Margherita  Small         8   7.99  New York"
      ]
     },
     "execution_count": 57,
     "metadata": {},
     "output_type": "execute_result"
    }
   ],
   "source": [
    "mar"
   ]
  },
  {
   "cell_type": "code",
   "execution_count": 53,
   "id": "69318e94-0d31-4b5d-b49d-f1d854d2e840",
   "metadata": {},
   "outputs": [
    {
     "data": {
      "text/plain": [
       "46.96"
      ]
     },
     "execution_count": 53,
     "metadata": {},
     "output_type": "execute_result"
    }
   ],
   "source": [
    "pep_total=pep['price'].sum()\n",
    "pep_total"
   ]
  },
  {
   "cell_type": "code",
   "execution_count": 55,
   "id": "60a0ce1c-2d58-4564-a2e3-de68bbc72f4e",
   "metadata": {},
   "outputs": [
    {
     "data": {
      "text/plain": [
       "23.98"
      ]
     },
     "execution_count": 55,
     "metadata": {},
     "output_type": "execute_result"
    }
   ],
   "source": [
    "mar_total=mar['price'].sum()\n",
    "mar_total"
   ]
  },
  {
   "cell_type": "code",
   "execution_count": 59,
   "id": "99b368af-fa9c-43c8-a0fb-85f0ddfed448",
   "metadata": {},
   "outputs": [
    {
     "data": {
      "text/plain": [
       "41.97"
      ]
     },
     "execution_count": 59,
     "metadata": {},
     "output_type": "execute_result"
    }
   ],
   "source": [
    "bbq_total=bbq['price'].sum()\n",
    "bbq_total"
   ]
  },
  {
   "cell_type": "code",
   "execution_count": 61,
   "id": "5fc77f35-6aee-4a59-9cc4-22199060d4db",
   "metadata": {},
   "outputs": [
    {
     "data": {
      "text/plain": [
       "23.98"
      ]
     },
     "execution_count": 61,
     "metadata": {},
     "output_type": "execute_result"
    }
   ],
   "source": [
    "veg_total=mar['price'].sum()\n",
    "veg_total"
   ]
  },
  {
   "cell_type": "code",
   "execution_count": 81,
   "id": "0152fee9-e87c-4f7c-b76d-b35092549204",
   "metadata": {},
   "outputs": [],
   "source": [
    "data1 = {\n",
    "  \"Pizza_type\": [\"Pepperoni\",\"Margherita\",\"BBQ Chicken\",\"Vegetarian\"],\n",
    "  \"Total\": [pep_total,mar_total,bbq_total,veg_total]\n",
    "}\n",
    "first=pd.DataFrame(data1)"
   ]
  },
  {
   "cell_type": "code",
   "execution_count": 83,
   "id": "26d2dbbc-ac6e-4388-a467-99cf24ee3b87",
   "metadata": {},
   "outputs": [],
   "source": [
    "#############################################################"
   ]
  },
  {
   "cell_type": "code",
   "execution_count": 85,
   "id": "44a80be2-e931-4391-b4f7-a785b878cafc",
   "metadata": {},
   "outputs": [],
   "source": [
    "######Total sales amount by pizza type##########"
   ]
  },
  {
   "cell_type": "code",
   "execution_count": 87,
   "id": "8e9364f7-85d8-45b9-9a91-2011328ba69a",
   "metadata": {},
   "outputs": [
    {
     "data": {
      "text/html": [
       "<div>\n",
       "<style scoped>\n",
       "    .dataframe tbody tr th:only-of-type {\n",
       "        vertical-align: middle;\n",
       "    }\n",
       "\n",
       "    .dataframe tbody tr th {\n",
       "        vertical-align: top;\n",
       "    }\n",
       "\n",
       "    .dataframe thead th {\n",
       "        text-align: right;\n",
       "    }\n",
       "</style>\n",
       "<table border=\"1\" class=\"dataframe\">\n",
       "  <thead>\n",
       "    <tr style=\"text-align: right;\">\n",
       "      <th></th>\n",
       "      <th>Pizza_type</th>\n",
       "      <th>Total</th>\n",
       "    </tr>\n",
       "  </thead>\n",
       "  <tbody>\n",
       "    <tr>\n",
       "      <th>0</th>\n",
       "      <td>Pepperoni</td>\n",
       "      <td>46.96</td>\n",
       "    </tr>\n",
       "    <tr>\n",
       "      <th>1</th>\n",
       "      <td>Margherita</td>\n",
       "      <td>23.98</td>\n",
       "    </tr>\n",
       "    <tr>\n",
       "      <th>2</th>\n",
       "      <td>BBQ Chicken</td>\n",
       "      <td>41.97</td>\n",
       "    </tr>\n",
       "    <tr>\n",
       "      <th>3</th>\n",
       "      <td>Vegetarian</td>\n",
       "      <td>23.98</td>\n",
       "    </tr>\n",
       "  </tbody>\n",
       "</table>\n",
       "</div>"
      ],
      "text/plain": [
       "    Pizza_type  Total\n",
       "0    Pepperoni  46.96\n",
       "1   Margherita  23.98\n",
       "2  BBQ Chicken  41.97\n",
       "3   Vegetarian  23.98"
      ]
     },
     "execution_count": 87,
     "metadata": {},
     "output_type": "execute_result"
    }
   ],
   "source": [
    "first"
   ]
  },
  {
   "cell_type": "code",
   "execution_count": null,
   "id": "b19fc0cb-9bba-4568-8a3d-6e0aabe1cf2b",
   "metadata": {},
   "outputs": [],
   "source": []
  },
  {
   "cell_type": "code",
   "execution_count": null,
   "id": "d88138a9-a23a-4496-9bf0-b885282dd889",
   "metadata": {},
   "outputs": [],
   "source": []
  },
  {
   "cell_type": "code",
   "execution_count": 69,
   "id": "bd1ea583-f41b-486c-9087-02c6aa213500",
   "metadata": {},
   "outputs": [
    {
     "data": {
      "text/plain": [
       "11.74"
      ]
     },
     "execution_count": 69,
     "metadata": {},
     "output_type": "execute_result"
    }
   ],
   "source": [
    "pep_mean=pep['price'].mean()\n",
    "pep_mean"
   ]
  },
  {
   "cell_type": "code",
   "execution_count": 71,
   "id": "8225d77e-afbf-43b5-8d84-9416a5c990a4",
   "metadata": {},
   "outputs": [
    {
     "data": {
      "text/plain": [
       "11.99"
      ]
     },
     "execution_count": 71,
     "metadata": {},
     "output_type": "execute_result"
    }
   ],
   "source": [
    "mar_mean=mar['price'].mean()\n",
    "mar_mean"
   ]
  },
  {
   "cell_type": "code",
   "execution_count": 75,
   "id": "b2e4bcdc-6232-4f51-a56d-adc9e84eeca4",
   "metadata": {},
   "outputs": [
    {
     "data": {
      "text/plain": [
       "13.99"
      ]
     },
     "execution_count": 75,
     "metadata": {},
     "output_type": "execute_result"
    }
   ],
   "source": [
    "bbq_mean=bbq['price'].mean()\n",
    "bbq_mean"
   ]
  },
  {
   "cell_type": "code",
   "execution_count": 77,
   "id": "ad334c46-f308-4350-b00c-2b63b0c2396b",
   "metadata": {},
   "outputs": [
    {
     "data": {
      "text/plain": [
       "12.656666666666666"
      ]
     },
     "execution_count": 77,
     "metadata": {},
     "output_type": "execute_result"
    }
   ],
   "source": [
    "veg_mean=veg['price'].mean()\n",
    "veg_mean"
   ]
  },
  {
   "cell_type": "code",
   "execution_count": 91,
   "id": "90e0a8e9-61d1-4d65-a587-f9ff087515ef",
   "metadata": {},
   "outputs": [],
   "source": [
    "data2 = {\n",
    "  \"Pizza_type\": [\"Pepperoni\",\"Margherita\",\"BBQ Chicken\",\"Vegetarian\"],\n",
    "  \"Average\": [pep_mean,mar_mean,bbq_mean,veg_mean]\n",
    "}\n",
    "second=pd.DataFrame(data2)"
   ]
  },
  {
   "cell_type": "code",
   "execution_count": null,
   "id": "1287f228-2203-4769-b10a-ba3fd6f57c0a",
   "metadata": {},
   "outputs": [],
   "source": [
    "########################## Average price of each pizza type######################"
   ]
  },
  {
   "cell_type": "code",
   "execution_count": 93,
   "id": "2f4b1708-03fc-4a2a-aeb5-c1419d508fad",
   "metadata": {},
   "outputs": [
    {
     "data": {
      "text/html": [
       "<div>\n",
       "<style scoped>\n",
       "    .dataframe tbody tr th:only-of-type {\n",
       "        vertical-align: middle;\n",
       "    }\n",
       "\n",
       "    .dataframe tbody tr th {\n",
       "        vertical-align: top;\n",
       "    }\n",
       "\n",
       "    .dataframe thead th {\n",
       "        text-align: right;\n",
       "    }\n",
       "</style>\n",
       "<table border=\"1\" class=\"dataframe\">\n",
       "  <thead>\n",
       "    <tr style=\"text-align: right;\">\n",
       "      <th></th>\n",
       "      <th>Pizza_type</th>\n",
       "      <th>Total</th>\n",
       "    </tr>\n",
       "  </thead>\n",
       "  <tbody>\n",
       "    <tr>\n",
       "      <th>0</th>\n",
       "      <td>Pepperoni</td>\n",
       "      <td>11.740000</td>\n",
       "    </tr>\n",
       "    <tr>\n",
       "      <th>1</th>\n",
       "      <td>Margherita</td>\n",
       "      <td>11.990000</td>\n",
       "    </tr>\n",
       "    <tr>\n",
       "      <th>2</th>\n",
       "      <td>BBQ Chicken</td>\n",
       "      <td>13.990000</td>\n",
       "    </tr>\n",
       "    <tr>\n",
       "      <th>3</th>\n",
       "      <td>Vegetarian</td>\n",
       "      <td>12.656667</td>\n",
       "    </tr>\n",
       "  </tbody>\n",
       "</table>\n",
       "</div>"
      ],
      "text/plain": [
       "    Pizza_type      Total\n",
       "0    Pepperoni  11.740000\n",
       "1   Margherita  11.990000\n",
       "2  BBQ Chicken  13.990000\n",
       "3   Vegetarian  12.656667"
      ]
     },
     "execution_count": 93,
     "metadata": {},
     "output_type": "execute_result"
    }
   ],
   "source": [
    "second"
   ]
  },
  {
   "cell_type": "code",
   "execution_count": 95,
   "id": "088f2d8d-7f70-41c8-93f9-550a44b969da",
   "metadata": {},
   "outputs": [],
   "source": [
    "grouped_location=df.groupby(df.location)"
   ]
  },
  {
   "cell_type": "code",
   "execution_count": 109,
   "id": "ac52d55c-41ce-474c-9f1b-7cd24ffffcbd",
   "metadata": {},
   "outputs": [],
   "source": [
    "ny=grouped_location.get_group(\"New York\")\n",
    "ch=grouped_location.get_group(\"Chicago\")\n",
    "la=grouped_location.get_group(\"Los Angeles\")"
   ]
  },
  {
   "cell_type": "code",
   "execution_count": 111,
   "id": "27725ad0-04bc-4302-873d-d539157a66e7",
   "metadata": {},
   "outputs": [
    {
     "data": {
      "text/html": [
       "<div>\n",
       "<style scoped>\n",
       "    .dataframe tbody tr th:only-of-type {\n",
       "        vertical-align: middle;\n",
       "    }\n",
       "\n",
       "    .dataframe tbody tr th {\n",
       "        vertical-align: top;\n",
       "    }\n",
       "\n",
       "    .dataframe thead th {\n",
       "        text-align: right;\n",
       "    }\n",
       "</style>\n",
       "<table border=\"1\" class=\"dataframe\">\n",
       "  <thead>\n",
       "    <tr style=\"text-align: right;\">\n",
       "      <th></th>\n",
       "      <th>sale_date</th>\n",
       "      <th>pizza_type</th>\n",
       "      <th>size</th>\n",
       "      <th>quantity</th>\n",
       "      <th>price</th>\n",
       "      <th>location</th>\n",
       "    </tr>\n",
       "  </thead>\n",
       "  <tbody>\n",
       "    <tr>\n",
       "      <th>0</th>\n",
       "      <td>2024-01-01</td>\n",
       "      <td>Pepperoni</td>\n",
       "      <td>Small</td>\n",
       "      <td>5</td>\n",
       "      <td>8.99</td>\n",
       "      <td>New York</td>\n",
       "    </tr>\n",
       "    <tr>\n",
       "      <th>1</th>\n",
       "      <td>2024-01-01</td>\n",
       "      <td>Pepperoni</td>\n",
       "      <td>Medium</td>\n",
       "      <td>3</td>\n",
       "      <td>12.99</td>\n",
       "      <td>New York</td>\n",
       "    </tr>\n",
       "    <tr>\n",
       "      <th>2</th>\n",
       "      <td>2024-01-02</td>\n",
       "      <td>Margherita</td>\n",
       "      <td>Large</td>\n",
       "      <td>2</td>\n",
       "      <td>15.99</td>\n",
       "      <td>New York</td>\n",
       "    </tr>\n",
       "    <tr>\n",
       "      <th>7</th>\n",
       "      <td>2024-01-06</td>\n",
       "      <td>Margherita</td>\n",
       "      <td>Small</td>\n",
       "      <td>8</td>\n",
       "      <td>7.99</td>\n",
       "      <td>New York</td>\n",
       "    </tr>\n",
       "    <tr>\n",
       "      <th>10</th>\n",
       "      <td>2024-01-09</td>\n",
       "      <td>BBQ Chicken</td>\n",
       "      <td>Large</td>\n",
       "      <td>2</td>\n",
       "      <td>17.99</td>\n",
       "      <td>New York</td>\n",
       "    </tr>\n",
       "  </tbody>\n",
       "</table>\n",
       "</div>"
      ],
      "text/plain": [
       "     sale_date   pizza_type    size  quantity  price  location\n",
       "0   2024-01-01    Pepperoni   Small         5   8.99  New York\n",
       "1   2024-01-01    Pepperoni  Medium         3  12.99  New York\n",
       "2   2024-01-02   Margherita   Large         2  15.99  New York\n",
       "7   2024-01-06   Margherita   Small         8   7.99  New York\n",
       "10  2024-01-09  BBQ Chicken   Large         2  17.99  New York"
      ]
     },
     "execution_count": 111,
     "metadata": {},
     "output_type": "execute_result"
    }
   ],
   "source": [
    "ny"
   ]
  },
  {
   "cell_type": "code",
   "execution_count": 119,
   "id": "9bcc005e-f8f7-4b77-b5de-7398e6a20ef5",
   "metadata": {},
   "outputs": [],
   "source": [
    "ny_tot=ny[\"quantity\"].sum()"
   ]
  },
  {
   "cell_type": "code",
   "execution_count": 123,
   "id": "724894db-ebf9-459f-86e5-7e8c8fec550f",
   "metadata": {},
   "outputs": [
    {
     "data": {
      "text/plain": [
       "20"
      ]
     },
     "execution_count": 123,
     "metadata": {},
     "output_type": "execute_result"
    }
   ],
   "source": [
    "ny_tot"
   ]
  },
  {
   "cell_type": "code",
   "execution_count": 125,
   "id": "7be34b71-20ae-4bce-8f74-ad73566c31be",
   "metadata": {},
   "outputs": [],
   "source": [
    "ch_tot=ch[\"quantity\"].sum()"
   ]
  },
  {
   "cell_type": "code",
   "execution_count": 127,
   "id": "93b99079-bb02-4072-bb95-6784e478c628",
   "metadata": {},
   "outputs": [
    {
     "data": {
      "text/plain": [
       "19"
      ]
     },
     "execution_count": 127,
     "metadata": {},
     "output_type": "execute_result"
    }
   ],
   "source": [
    "ch_tot"
   ]
  },
  {
   "cell_type": "code",
   "execution_count": 113,
   "id": "9c1d8fd0-2b03-46f4-9b2a-495bebff9df2",
   "metadata": {},
   "outputs": [
    {
     "data": {
      "text/html": [
       "<div>\n",
       "<style scoped>\n",
       "    .dataframe tbody tr th:only-of-type {\n",
       "        vertical-align: middle;\n",
       "    }\n",
       "\n",
       "    .dataframe tbody tr th {\n",
       "        vertical-align: top;\n",
       "    }\n",
       "\n",
       "    .dataframe thead th {\n",
       "        text-align: right;\n",
       "    }\n",
       "</style>\n",
       "<table border=\"1\" class=\"dataframe\">\n",
       "  <thead>\n",
       "    <tr style=\"text-align: right;\">\n",
       "      <th></th>\n",
       "      <th>sale_date</th>\n",
       "      <th>pizza_type</th>\n",
       "      <th>size</th>\n",
       "      <th>quantity</th>\n",
       "      <th>price</th>\n",
       "      <th>location</th>\n",
       "    </tr>\n",
       "  </thead>\n",
       "  <tbody>\n",
       "    <tr>\n",
       "      <th>3</th>\n",
       "      <td>2024-01-02</td>\n",
       "      <td>BBQ Chicken</td>\n",
       "      <td>Small</td>\n",
       "      <td>4</td>\n",
       "      <td>9.99</td>\n",
       "      <td>Chicago</td>\n",
       "    </tr>\n",
       "    <tr>\n",
       "      <th>5</th>\n",
       "      <td>2024-01-04</td>\n",
       "      <td>Pepperoni</td>\n",
       "      <td>Small</td>\n",
       "      <td>7</td>\n",
       "      <td>8.99</td>\n",
       "      <td>Chicago</td>\n",
       "    </tr>\n",
       "    <tr>\n",
       "      <th>8</th>\n",
       "      <td>2024-01-07</td>\n",
       "      <td>Vegetarian</td>\n",
       "      <td>Medium</td>\n",
       "      <td>3</td>\n",
       "      <td>12.99</td>\n",
       "      <td>Chicago</td>\n",
       "    </tr>\n",
       "    <tr>\n",
       "      <th>11</th>\n",
       "      <td>2024-01-10</td>\n",
       "      <td>Vegetarian</td>\n",
       "      <td>Small</td>\n",
       "      <td>5</td>\n",
       "      <td>9.99</td>\n",
       "      <td>Chicago</td>\n",
       "    </tr>\n",
       "  </tbody>\n",
       "</table>\n",
       "</div>"
      ],
      "text/plain": [
       "     sale_date   pizza_type    size  quantity  price location\n",
       "3   2024-01-02  BBQ Chicken   Small         4   9.99  Chicago\n",
       "5   2024-01-04    Pepperoni   Small         7   8.99  Chicago\n",
       "8   2024-01-07   Vegetarian  Medium         3  12.99  Chicago\n",
       "11  2024-01-10   Vegetarian   Small         5   9.99  Chicago"
      ]
     },
     "execution_count": 113,
     "metadata": {},
     "output_type": "execute_result"
    }
   ],
   "source": [
    "ch"
   ]
  },
  {
   "cell_type": "code",
   "execution_count": 129,
   "id": "63ebe897-b176-4f6f-b8bf-863fc472b2fc",
   "metadata": {},
   "outputs": [],
   "source": [
    "la_tot=la[\"quantity\"].sum()"
   ]
  },
  {
   "cell_type": "code",
   "execution_count": 131,
   "id": "b73f514e-9e5a-47b9-9092-a520562728a7",
   "metadata": {},
   "outputs": [
    {
     "data": {
      "text/plain": [
       "9"
      ]
     },
     "execution_count": 131,
     "metadata": {},
     "output_type": "execute_result"
    }
   ],
   "source": [
    "la_tot"
   ]
  },
  {
   "cell_type": "code",
   "execution_count": 115,
   "id": "dc25fa4d-99a3-4f1f-81ca-8d92241befe0",
   "metadata": {},
   "outputs": [
    {
     "data": {
      "text/html": [
       "<div>\n",
       "<style scoped>\n",
       "    .dataframe tbody tr th:only-of-type {\n",
       "        vertical-align: middle;\n",
       "    }\n",
       "\n",
       "    .dataframe tbody tr th {\n",
       "        vertical-align: top;\n",
       "    }\n",
       "\n",
       "    .dataframe thead th {\n",
       "        text-align: right;\n",
       "    }\n",
       "</style>\n",
       "<table border=\"1\" class=\"dataframe\">\n",
       "  <thead>\n",
       "    <tr style=\"text-align: right;\">\n",
       "      <th></th>\n",
       "      <th>sale_date</th>\n",
       "      <th>pizza_type</th>\n",
       "      <th>size</th>\n",
       "      <th>quantity</th>\n",
       "      <th>price</th>\n",
       "      <th>location</th>\n",
       "    </tr>\n",
       "  </thead>\n",
       "  <tbody>\n",
       "    <tr>\n",
       "      <th>4</th>\n",
       "      <td>2024-01-03</td>\n",
       "      <td>Vegetarian</td>\n",
       "      <td>Large</td>\n",
       "      <td>6</td>\n",
       "      <td>14.99</td>\n",
       "      <td>Los Angeles</td>\n",
       "    </tr>\n",
       "    <tr>\n",
       "      <th>6</th>\n",
       "      <td>2024-01-05</td>\n",
       "      <td>BBQ Chicken</td>\n",
       "      <td>Medium</td>\n",
       "      <td>2</td>\n",
       "      <td>13.99</td>\n",
       "      <td>Los Angeles</td>\n",
       "    </tr>\n",
       "    <tr>\n",
       "      <th>9</th>\n",
       "      <td>2024-01-08</td>\n",
       "      <td>Pepperoni</td>\n",
       "      <td>Large</td>\n",
       "      <td>1</td>\n",
       "      <td>15.99</td>\n",
       "      <td>Los Angeles</td>\n",
       "    </tr>\n",
       "  </tbody>\n",
       "</table>\n",
       "</div>"
      ],
      "text/plain": [
       "    sale_date   pizza_type    size  quantity  price     location\n",
       "4  2024-01-03   Vegetarian   Large         6  14.99  Los Angeles\n",
       "6  2024-01-05  BBQ Chicken  Medium         2  13.99  Los Angeles\n",
       "9  2024-01-08    Pepperoni   Large         1  15.99  Los Angeles"
      ]
     },
     "execution_count": 115,
     "metadata": {},
     "output_type": "execute_result"
    }
   ],
   "source": [
    "la"
   ]
  },
  {
   "cell_type": "code",
   "execution_count": 133,
   "id": "9b8b2e98-a40a-4ab8-975d-e06698153de8",
   "metadata": {},
   "outputs": [],
   "source": [
    "data3 = {\n",
    "  \"Location\": [\"New York\",\"Chicago\",\"Los Angeles\"],\n",
    "  \"Quantity_sold\": [ny_tot,ch_tot,la_tot]\n",
    "}\n",
    "third=pd.DataFrame(data3)"
   ]
  },
  {
   "cell_type": "code",
   "execution_count": null,
   "id": "626c7d34-063d-41a6-a835-f78b627a7c39",
   "metadata": {},
   "outputs": [],
   "source": [
    "##########################Total quantity sold by location###############"
   ]
  },
  {
   "cell_type": "code",
   "execution_count": 135,
   "id": "b6a959cf-19ef-4dc7-b682-edfa7742ef6d",
   "metadata": {},
   "outputs": [
    {
     "data": {
      "text/html": [
       "<div>\n",
       "<style scoped>\n",
       "    .dataframe tbody tr th:only-of-type {\n",
       "        vertical-align: middle;\n",
       "    }\n",
       "\n",
       "    .dataframe tbody tr th {\n",
       "        vertical-align: top;\n",
       "    }\n",
       "\n",
       "    .dataframe thead th {\n",
       "        text-align: right;\n",
       "    }\n",
       "</style>\n",
       "<table border=\"1\" class=\"dataframe\">\n",
       "  <thead>\n",
       "    <tr style=\"text-align: right;\">\n",
       "      <th></th>\n",
       "      <th>Location</th>\n",
       "      <th>Quantity_sold</th>\n",
       "    </tr>\n",
       "  </thead>\n",
       "  <tbody>\n",
       "    <tr>\n",
       "      <th>0</th>\n",
       "      <td>New York</td>\n",
       "      <td>20</td>\n",
       "    </tr>\n",
       "    <tr>\n",
       "      <th>1</th>\n",
       "      <td>Chicago</td>\n",
       "      <td>19</td>\n",
       "    </tr>\n",
       "    <tr>\n",
       "      <th>2</th>\n",
       "      <td>Los Angeles</td>\n",
       "      <td>9</td>\n",
       "    </tr>\n",
       "  </tbody>\n",
       "</table>\n",
       "</div>"
      ],
      "text/plain": [
       "      Location  Quantity_sold\n",
       "0     New York             20\n",
       "1      Chicago             19\n",
       "2  Los Angeles              9"
      ]
     },
     "execution_count": 135,
     "metadata": {},
     "output_type": "execute_result"
    }
   ],
   "source": [
    "third"
   ]
  },
  {
   "cell_type": "code",
   "execution_count": 137,
   "id": "e8039e5a-357d-461b-ae87-19ec042e4234",
   "metadata": {},
   "outputs": [],
   "source": [
    "###################################################################################"
   ]
  },
  {
   "cell_type": "code",
   "execution_count": 139,
   "id": "046e9c49-907b-4afa-95a7-ac5985a33ff0",
   "metadata": {},
   "outputs": [
    {
     "data": {
      "text/html": [
       "<div>\n",
       "<style scoped>\n",
       "    .dataframe tbody tr th:only-of-type {\n",
       "        vertical-align: middle;\n",
       "    }\n",
       "\n",
       "    .dataframe tbody tr th {\n",
       "        vertical-align: top;\n",
       "    }\n",
       "\n",
       "    .dataframe thead th {\n",
       "        text-align: right;\n",
       "    }\n",
       "</style>\n",
       "<table border=\"1\" class=\"dataframe\">\n",
       "  <thead>\n",
       "    <tr style=\"text-align: right;\">\n",
       "      <th></th>\n",
       "      <th>sale_date</th>\n",
       "      <th>pizza_type</th>\n",
       "      <th>size</th>\n",
       "      <th>quantity</th>\n",
       "      <th>price</th>\n",
       "      <th>location</th>\n",
       "    </tr>\n",
       "  </thead>\n",
       "  <tbody>\n",
       "    <tr>\n",
       "      <th>0</th>\n",
       "      <td>2024-01-01</td>\n",
       "      <td>Pepperoni</td>\n",
       "      <td>Small</td>\n",
       "      <td>5</td>\n",
       "      <td>8.99</td>\n",
       "      <td>New York</td>\n",
       "    </tr>\n",
       "    <tr>\n",
       "      <th>1</th>\n",
       "      <td>2024-01-01</td>\n",
       "      <td>Pepperoni</td>\n",
       "      <td>Medium</td>\n",
       "      <td>3</td>\n",
       "      <td>12.99</td>\n",
       "      <td>New York</td>\n",
       "    </tr>\n",
       "    <tr>\n",
       "      <th>2</th>\n",
       "      <td>2024-01-02</td>\n",
       "      <td>Margherita</td>\n",
       "      <td>Large</td>\n",
       "      <td>2</td>\n",
       "      <td>15.99</td>\n",
       "      <td>New York</td>\n",
       "    </tr>\n",
       "    <tr>\n",
       "      <th>3</th>\n",
       "      <td>2024-01-02</td>\n",
       "      <td>BBQ Chicken</td>\n",
       "      <td>Small</td>\n",
       "      <td>4</td>\n",
       "      <td>9.99</td>\n",
       "      <td>Chicago</td>\n",
       "    </tr>\n",
       "    <tr>\n",
       "      <th>4</th>\n",
       "      <td>2024-01-03</td>\n",
       "      <td>Vegetarian</td>\n",
       "      <td>Large</td>\n",
       "      <td>6</td>\n",
       "      <td>14.99</td>\n",
       "      <td>Los Angeles</td>\n",
       "    </tr>\n",
       "    <tr>\n",
       "      <th>5</th>\n",
       "      <td>2024-01-04</td>\n",
       "      <td>Pepperoni</td>\n",
       "      <td>Small</td>\n",
       "      <td>7</td>\n",
       "      <td>8.99</td>\n",
       "      <td>Chicago</td>\n",
       "    </tr>\n",
       "    <tr>\n",
       "      <th>6</th>\n",
       "      <td>2024-01-05</td>\n",
       "      <td>BBQ Chicken</td>\n",
       "      <td>Medium</td>\n",
       "      <td>2</td>\n",
       "      <td>13.99</td>\n",
       "      <td>Los Angeles</td>\n",
       "    </tr>\n",
       "    <tr>\n",
       "      <th>7</th>\n",
       "      <td>2024-01-06</td>\n",
       "      <td>Margherita</td>\n",
       "      <td>Small</td>\n",
       "      <td>8</td>\n",
       "      <td>7.99</td>\n",
       "      <td>New York</td>\n",
       "    </tr>\n",
       "    <tr>\n",
       "      <th>8</th>\n",
       "      <td>2024-01-07</td>\n",
       "      <td>Vegetarian</td>\n",
       "      <td>Medium</td>\n",
       "      <td>3</td>\n",
       "      <td>12.99</td>\n",
       "      <td>Chicago</td>\n",
       "    </tr>\n",
       "    <tr>\n",
       "      <th>9</th>\n",
       "      <td>2024-01-08</td>\n",
       "      <td>Pepperoni</td>\n",
       "      <td>Large</td>\n",
       "      <td>1</td>\n",
       "      <td>15.99</td>\n",
       "      <td>Los Angeles</td>\n",
       "    </tr>\n",
       "    <tr>\n",
       "      <th>10</th>\n",
       "      <td>2024-01-09</td>\n",
       "      <td>BBQ Chicken</td>\n",
       "      <td>Large</td>\n",
       "      <td>2</td>\n",
       "      <td>17.99</td>\n",
       "      <td>New York</td>\n",
       "    </tr>\n",
       "    <tr>\n",
       "      <th>11</th>\n",
       "      <td>2024-01-10</td>\n",
       "      <td>Vegetarian</td>\n",
       "      <td>Small</td>\n",
       "      <td>5</td>\n",
       "      <td>9.99</td>\n",
       "      <td>Chicago</td>\n",
       "    </tr>\n",
       "  </tbody>\n",
       "</table>\n",
       "</div>"
      ],
      "text/plain": [
       "     sale_date   pizza_type    size  quantity  price     location\n",
       "0   2024-01-01    Pepperoni   Small         5   8.99     New York\n",
       "1   2024-01-01    Pepperoni  Medium         3  12.99     New York\n",
       "2   2024-01-02   Margherita   Large         2  15.99     New York\n",
       "3   2024-01-02  BBQ Chicken   Small         4   9.99      Chicago\n",
       "4   2024-01-03   Vegetarian   Large         6  14.99  Los Angeles\n",
       "5   2024-01-04    Pepperoni   Small         7   8.99      Chicago\n",
       "6   2024-01-05  BBQ Chicken  Medium         2  13.99  Los Angeles\n",
       "7   2024-01-06   Margherita   Small         8   7.99     New York\n",
       "8   2024-01-07   Vegetarian  Medium         3  12.99      Chicago\n",
       "9   2024-01-08    Pepperoni   Large         1  15.99  Los Angeles\n",
       "10  2024-01-09  BBQ Chicken   Large         2  17.99     New York\n",
       "11  2024-01-10   Vegetarian   Small         5   9.99      Chicago"
      ]
     },
     "execution_count": 139,
     "metadata": {},
     "output_type": "execute_result"
    }
   ],
   "source": [
    "df"
   ]
  },
  {
   "cell_type": "code",
   "execution_count": 230,
   "id": "cbd9581a-6e2d-499d-95b3-f3f17589f460",
   "metadata": {},
   "outputs": [],
   "source": [
    "small_tot=0\n",
    "med_tot=0\n",
    "large_tot=0\n",
    "\n",
    "# print(k,df.loc[k].size_pizza)\n",
    "\n",
    "\n",
    "\n",
    "for k in df.index:\n",
    "    if df.loc[k].size_pizza==\"Small\":\n",
    "        small_tot+=df.loc[k].price\n",
    "    elif df.loc[k].size_pizza==\"Medium\":\n",
    "        med_tot+=df.loc[k].price\n",
    "    else:\n",
    "        large_tot+=df.loc[k].price"
   ]
  },
  {
   "cell_type": "code",
   "execution_count": 189,
   "id": "38d9ec94-f678-4f5c-a1d9-1648197e4a06",
   "metadata": {},
   "outputs": [
    {
     "data": {
      "text/plain": [
       "45.95"
      ]
     },
     "execution_count": 189,
     "metadata": {},
     "output_type": "execute_result"
    }
   ],
   "source": [
    "small_tot"
   ]
  },
  {
   "cell_type": "code",
   "execution_count": 206,
   "id": "6712d2fb-93fe-411e-ba9e-f8b7bab7b39d",
   "metadata": {},
   "outputs": [
    {
     "data": {
      "text/plain": [
       "39.97"
      ]
     },
     "execution_count": 206,
     "metadata": {},
     "output_type": "execute_result"
    }
   ],
   "source": [
    "med_tot"
   ]
  },
  {
   "cell_type": "code",
   "execution_count": 208,
   "id": "2e5ef825-fee4-4d7b-90b2-28574e06fe94",
   "metadata": {},
   "outputs": [
    {
     "data": {
      "text/plain": [
       "64.96"
      ]
     },
     "execution_count": 208,
     "metadata": {},
     "output_type": "execute_result"
    }
   ],
   "source": [
    "large_tot"
   ]
  },
  {
   "cell_type": "code",
   "execution_count": 220,
   "id": "ee12d06d-4bae-4207-b47c-6a42364dca57",
   "metadata": {},
   "outputs": [],
   "source": [
    "data4 = { \n",
    "         \"Size\": [\"Small\",\"Medium\",\"Large\"], \n",
    "         \"Total_Sales\": [small_tot,med_tot,large_tot]\n",
    "}\n",
    "fourth=pd.DataFrame(data4)"
   ]
  },
  {
   "cell_type": "code",
   "execution_count": 228,
   "id": "a10cffed-498b-47b9-9fe4-06cc11e2046a",
   "metadata": {},
   "outputs": [
    {
     "data": {
      "text/html": [
       "<div>\n",
       "<style scoped>\n",
       "    .dataframe tbody tr th:only-of-type {\n",
       "        vertical-align: middle;\n",
       "    }\n",
       "\n",
       "    .dataframe tbody tr th {\n",
       "        vertical-align: top;\n",
       "    }\n",
       "\n",
       "    .dataframe thead th {\n",
       "        text-align: right;\n",
       "    }\n",
       "</style>\n",
       "<table border=\"1\" class=\"dataframe\">\n",
       "  <thead>\n",
       "    <tr style=\"text-align: right;\">\n",
       "      <th></th>\n",
       "      <th>Size</th>\n",
       "      <th>Total_Sales</th>\n",
       "    </tr>\n",
       "  </thead>\n",
       "  <tbody>\n",
       "    <tr>\n",
       "      <th>0</th>\n",
       "      <td>Small</td>\n",
       "      <td>45.95</td>\n",
       "    </tr>\n",
       "    <tr>\n",
       "      <th>1</th>\n",
       "      <td>Medium</td>\n",
       "      <td>39.97</td>\n",
       "    </tr>\n",
       "    <tr>\n",
       "      <th>2</th>\n",
       "      <td>Large</td>\n",
       "      <td>64.96</td>\n",
       "    </tr>\n",
       "  </tbody>\n",
       "</table>\n",
       "</div>"
      ],
      "text/plain": [
       "     Size  Total_Sales\n",
       "0   Small        45.95\n",
       "1  Medium        39.97\n",
       "2   Large        64.96"
      ]
     },
     "execution_count": 228,
     "metadata": {},
     "output_type": "execute_result"
    }
   ],
   "source": [
    "fourth"
   ]
  },
  {
   "cell_type": "code",
   "execution_count": 232,
   "id": "770e11c4-89af-448c-a132-2d8c230b3a8a",
   "metadata": {},
   "outputs": [],
   "source": [
    "small_pep=0\n",
    "small_mar=0\n",
    "small_bbq=0\n",
    "small_veg=0\n",
    "med_pep=0\n",
    "med_mar=0\n",
    "med_bbq=0\n",
    "med_veg=0\n",
    "large_pep=0\n",
    "large_mar=0\n",
    "large_bbq=0\n",
    "large_veg=0"
   ]
  },
  {
   "cell_type": "code",
   "execution_count": 250,
   "id": "111bbe2f-0a36-4284-9823-ced39ba4b3df",
   "metadata": {},
   "outputs": [
    {
     "name": "stdout",
     "output_type": "stream",
     "text": [
      "0 Small Pepperoni\n",
      "1 Medium Pepperoni\n",
      "2 Large Margherita\n",
      "3 Small BBQ Chicken\n",
      "4 Large Vegetarian\n",
      "5 Small Pepperoni\n",
      "6 Medium BBQ Chicken\n",
      "7 Small Margherita\n",
      "8 Medium Vegetarian\n",
      "9 Large Pepperoni\n",
      "10 Large BBQ Chicken\n",
      "11 Small Vegetarian\n"
     ]
    }
   ],
   "source": [
    "for k in df.index:\n",
    "    if df.loc[k].size_pizza==\"Small\" and df.loc[k].pizza_type==\"Pepperoni\":\n",
    "        print(k,df.loc[k].size_pizza,df.loc[k].pizza_type)\n",
    "        small_pep+=df.loc[k].price\n",
    "    elif df.loc[k].size_pizza==\"Medium\" and df.loc[k].pizza_type==\"Pepperoni\":\n",
    "        print(k,df.loc[k].size_pizza,df.loc[k].pizza_type)\n",
    "        med_pep+=df.loc[k].price\n",
    "    elif df.loc[k].size_pizza==\"Large\" and df.loc[k].pizza_type==\"Pepperoni\":\n",
    "        print(k,df.loc[k].size_pizza,df.loc[k].pizza_type)\n",
    "        large_pep+=df.loc[k].price\n",
    "    elif df.loc[k].size_pizza==\"Small\" and df.loc[k].pizza_type==\"Margherita\":\n",
    "        print(k,df.loc[k].size_pizza,df.loc[k].pizza_type)\n",
    "        small_mar+=df.loc[k].price\n",
    "    elif df.loc[k].size_pizza==\"Medium\" and df.loc[k].pizza_type==\"Margherita\":\n",
    "        print(k,df.loc[k].size_pizza,df.loc[k].pizza_type)\n",
    "        med_mar+=df.loc[k].price\n",
    "    elif df.loc[k].size_pizza==\"Large\" and df.loc[k].pizza_type==\"Margherita\":\n",
    "        print(k,df.loc[k].size_pizza,df.loc[k].pizza_type)\n",
    "        large_mar+=df.loc[k].price\n",
    "    elif df.loc[k].size_pizza==\"Small\" and df.loc[k].pizza_type==\"BBQ Chicken\":\n",
    "        print(k,df.loc[k].size_pizza,df.loc[k].pizza_type)\n",
    "        small_bbq+=df.loc[k].price\n",
    "    elif df.loc[k].size_pizza==\"Medium\" and df.loc[k].pizza_type==\"BBQ Chicken\":\n",
    "        print(k,df.loc[k].size_pizza,df.loc[k].pizza_type)\n",
    "        med_bbq+=df.loc[k].price\n",
    "    elif df.loc[k].size_pizza==\"Large\" and df.loc[k].pizza_type==\"BBQ Chicken\":\n",
    "        print(k,df.loc[k].size_pizza,df.loc[k].pizza_type)\n",
    "        large_bbq+=df.loc[k].price\n",
    "    elif df.loc[k].size_pizza==\"Small\" and df.loc[k].pizza_type==\"Vegetarian\":\n",
    "        print(k,df.loc[k].size_pizza,df.loc[k].pizza_type)\n",
    "        small_veg+=df.loc[k].price\n",
    "    elif df.loc[k].size_pizza==\"Medium\" and df.loc[k].pizza_type==\"Vegetarian\":\n",
    "        print(k,df.loc[k].size_pizza,df.loc[k].pizza_type)\n",
    "        med_veg+=df.loc[k].price\n",
    "    else:\n",
    "        print(k,df.loc[k].size_pizza,df.loc[k].pizza_type)\n",
    "        large_veg+=df.loc[k].price"
   ]
  },
  {
   "cell_type": "code",
   "execution_count": null,
   "id": "449abc28-4229-41a4-83fa-411b08645063",
   "metadata": {},
   "outputs": [],
   "source": [
    "data4 = { \n",
    "         \"Size\": [\"Small\",\"Medium\",\"Large\"], \n",
    "         \"Total_Sales\": [small_tot,med_tot,large_tot]\n",
    "}\n",
    "fourth=pd.DataFrame(data4)"
   ]
  }
 ],
 "metadata": {
  "kernelspec": {
   "display_name": "Python 3 (ipykernel)",
   "language": "python",
   "name": "python3"
  },
  "language_info": {
   "codemirror_mode": {
    "name": "ipython",
    "version": 3
   },
   "file_extension": ".py",
   "mimetype": "text/x-python",
   "name": "python",
   "nbconvert_exporter": "python",
   "pygments_lexer": "ipython3",
   "version": "3.12.4"
  }
 },
 "nbformat": 4,
 "nbformat_minor": 5
}
